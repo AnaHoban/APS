{
 "cells": [
  {
   "cell_type": "code",
   "execution_count": 2,
   "id": "8823ddb9-333f-479c-a9b6-222b0773e788",
   "metadata": {},
   "outputs": [],
   "source": [
    "#setting the speakers for the online version of the experiment\n",
    "import pandas as pd\n",
    "import random\n",
    "import numpy as np\n",
    "import warnings\n",
    "\n",
    "warnings.filterwarnings('ignore')"
   ]
  },
  {
   "cell_type": "code",
   "execution_count": 3,
   "id": "92cc6d13-8940-46a6-ba83-442104cc9bf3",
   "metadata": {},
   "outputs": [],
   "source": [
    "#how to do it:\n",
    "#import list\n",
    "#arrange: type, structure and plausibility\n",
    "#for all targets, randomly assign half to chinese and half to french\n",
    "#do the same for all fillers\n",
    "#reverse for list b\n",
    "#put them back into the original list"
   ]
  },
  {
   "cell_type": "code",
   "execution_count": 25,
   "id": "52e5e3c2-90e1-427d-a2d5-8ee1a2728885",
   "metadata": {},
   "outputs": [],
   "source": [
    "#import the list\n",
    "list_nb = input()\n",
    "list_a = pd.read_csv('./list{}a.csv'.format(list_nb), encoding = 'latin1')\n",
    "list_a_items = list_a[list_a.display == 'Liste'].copy()\n",
    "\n",
    "#keeping track of the og indices\n",
    "original_indices = list_a_items.index\n",
    "\n",
    "list_a_items = list_a_items.sort_values(by=['Structure', 'Plausibility'], ascending=[True, True])\n",
    "\n",
    "#create speaker lists: the first 48 are for the targets and the next 96 are for the fillers\n",
    "speakers_a = ['AF.jpg','AF.jpg','WF.jpg','WF.jpg']*12  + ['AF.jpg','WF.jpg']*48  \n",
    "\n",
    "#assign them to the separate item lists\n",
    "list_a_items['Photo'] = speakers_a\n",
    "\n",
    "# reoder the manipulated subset to match og indices\n",
    "list_a_items = list_a_items.loc[original_indices]\n",
    "\n",
    "# update the original df with the updated items\n",
    "list_a.loc[original_indices, list_a_items.columns] = list_a_items"
   ]
  },
  {
   "cell_type": "code",
   "execution_count": 31,
   "id": "601fec66-e920-4529-ae16-84e82dfe8ddd",
   "metadata": {},
   "outputs": [],
   "source": [
    "def speaker_inverter(speaker):\n",
    "    inversion_dict = {\n",
    "        'WF.jpg': 'AF.jpg',\n",
    "        'AF.jpg': 'WF.jpg',\n",
    "        'Femme entrainement.png': 'Homme entrainement.png',\n",
    "        'Homme entrainement.png': 'Femme entrainement.png'\n",
    "    }\n",
    "    return inversion_dict.get(speaker, speaker)\n",
    "\n",
    "def audio_inverter(speaker):\n",
    "    inversion_dict = {\n",
    "        'Audio femme entrainement.mp3': 'Audio homme entrainement.mp3',\n",
    "        'Audio homme entrainement.mp3': 'Audio femme entrainement.mp3'\n",
    "    }\n",
    "    return inversion_dict.get(speaker, speaker)\n",
    "\n",
    "list_b = list_a.copy()\n",
    "list_b.Photo = list_b.Photo.apply(speaker_inverter)\n",
    "list_b.Audio = list_b.Audio.apply(audio_inverter)"
   ]
  },
  {
   "cell_type": "code",
   "execution_count": 33,
   "id": "f54cf91e-502e-425b-bce1-fed13fe061d0",
   "metadata": {},
   "outputs": [
    {
     "ename": "NameError",
     "evalue": "name 'list_nb' is not defined",
     "output_type": "error",
     "traceback": [
      "\u001b[1;31m---------------------------------------------------------------------------\u001b[0m",
      "\u001b[1;31mNameError\u001b[0m                                 Traceback (most recent call last)",
      "\u001b[1;32m~\\AppData\\Local\\Temp\\ipykernel_26616\\4252089740.py\u001b[0m in \u001b[0;36m<module>\u001b[1;34m\u001b[0m\n\u001b[0;32m      1\u001b[0m \u001b[1;31m#save the lists\u001b[0m\u001b[1;33m\u001b[0m\u001b[1;33m\u001b[0m\u001b[0m\n\u001b[1;32m----> 2\u001b[1;33m \u001b[0mlist_a\u001b[0m\u001b[1;33m.\u001b[0m\u001b[0mto_csv\u001b[0m\u001b[1;33m(\u001b[0m\u001b[1;34m'list{}a.csv'\u001b[0m\u001b[1;33m.\u001b[0m\u001b[0mformat\u001b[0m\u001b[1;33m(\u001b[0m\u001b[0mlist_nb\u001b[0m\u001b[1;33m)\u001b[0m\u001b[1;33m,\u001b[0m \u001b[0mheader\u001b[0m\u001b[1;33m=\u001b[0m \u001b[1;32mTrue\u001b[0m\u001b[1;33m,\u001b[0m \u001b[0mindex\u001b[0m \u001b[1;33m=\u001b[0m \u001b[1;32mFalse\u001b[0m\u001b[1;33m,\u001b[0m \u001b[0mencoding\u001b[0m\u001b[1;33m=\u001b[0m\u001b[1;34m'latin1'\u001b[0m\u001b[1;33m)\u001b[0m\u001b[1;33m\u001b[0m\u001b[1;33m\u001b[0m\u001b[0m\n\u001b[0m\u001b[0;32m      3\u001b[0m \u001b[0mlist_b\u001b[0m\u001b[1;33m.\u001b[0m\u001b[0mto_csv\u001b[0m\u001b[1;33m(\u001b[0m\u001b[1;34m'list{}b.csv'\u001b[0m\u001b[1;33m.\u001b[0m\u001b[0mformat\u001b[0m\u001b[1;33m(\u001b[0m\u001b[0mlist_nb\u001b[0m\u001b[1;33m)\u001b[0m\u001b[1;33m,\u001b[0m \u001b[0mheader\u001b[0m\u001b[1;33m=\u001b[0m \u001b[1;32mTrue\u001b[0m\u001b[1;33m,\u001b[0m \u001b[0mindex\u001b[0m \u001b[1;33m=\u001b[0m \u001b[1;32mFalse\u001b[0m\u001b[1;33m,\u001b[0m \u001b[0mencoding\u001b[0m\u001b[1;33m=\u001b[0m\u001b[1;34m'latin1'\u001b[0m\u001b[1;33m)\u001b[0m\u001b[1;33m\u001b[0m\u001b[1;33m\u001b[0m\u001b[0m\n",
      "\u001b[1;31mNameError\u001b[0m: name 'list_nb' is not defined"
     ]
    }
   ],
   "source": [
    "#save the lists\n",
    "list_a.to_csv('./list{}a.csv'.format(list_nb), header= True, index = False, encoding='latin1')\n",
    "list_b.to_csv('./list{}b.csv'.format(list_nb), header= True, index = False, encoding='latin1')"
   ]
  },
  {
   "cell_type": "code",
   "execution_count": null,
   "id": "100842ea-5f27-4670-9fb2-bf3f1df44859",
   "metadata": {},
   "outputs": [],
   "source": []
  }
 ],
 "metadata": {
  "kernelspec": {
   "display_name": "Python 3 (ipykernel)",
   "language": "python",
   "name": "python3"
  },
  "language_info": {
   "codemirror_mode": {
    "name": "ipython",
    "version": 3
   },
   "file_extension": ".py",
   "mimetype": "text/x-python",
   "name": "python",
   "nbconvert_exporter": "python",
   "pygments_lexer": "ipython3",
   "version": "3.9.13"
  }
 },
 "nbformat": 4,
 "nbformat_minor": 5
}
