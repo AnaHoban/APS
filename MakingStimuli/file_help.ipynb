{
 "cells": [
  {
   "cell_type": "code",
   "execution_count": 25,
   "id": "0e5ac5b1-ada0-4c7f-a914-437af9531da2",
   "metadata": {},
   "outputs": [],
   "source": [
    "import numpy as np\n",
    "import pandas as pd"
   ]
  },
  {
   "cell_type": "code",
   "execution_count": 29,
   "id": "423f20af-2725-47dd-ba38-f1a159a81ad2",
   "metadata": {},
   "outputs": [],
   "source": [
    "column_names = ['Type', '1', '2', '3', '4', '5', 'Sentence', 'Paraphrase']\n",
    "all_sentences = pd.read_csv(\"all_sentences_og.csv\", names = column_names ,header= None)\n"
   ]
  },
  {
   "cell_type": "code",
   "execution_count": 32,
   "id": "796a25fc-277d-4a5e-9231-a33d46b901eb",
   "metadata": {},
   "outputs": [],
   "source": [
    "unique_sentences = all_sentences.drop_duplicates(subset = 'Sentence')\n",
    "unique_filler_sentences = unique_sentences[unique_sentences.Type == 'filler']"
   ]
  },
  {
   "cell_type": "code",
   "execution_count": 33,
   "id": "2f763855-600f-4e72-9b3f-b4d495969ab7",
   "metadata": {
    "tags": []
   },
   "outputs": [],
   "source": [
    "unique_filler_sentences.to_csv('filler_sentences_for_translation.csv')"
   ]
  },
  {
   "cell_type": "code",
   "execution_count": null,
   "id": "15ed68f0-d6e5-41b3-8ef2-3831d7211882",
   "metadata": {},
   "outputs": [],
   "source": []
  }
 ],
 "metadata": {
  "kernelspec": {
   "display_name": "Python 3 (ipykernel)",
   "language": "python",
   "name": "python3"
  },
  "language_info": {
   "codemirror_mode": {
    "name": "ipython",
    "version": 3
   },
   "file_extension": ".py",
   "mimetype": "text/x-python",
   "name": "python",
   "nbconvert_exporter": "python",
   "pygments_lexer": "ipython3",
   "version": "3.9.13"
  }
 },
 "nbformat": 4,
 "nbformat_minor": 5
}
