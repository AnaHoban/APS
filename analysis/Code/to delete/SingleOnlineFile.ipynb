{
 "cells": [
  {
   "cell_type": "code",
   "execution_count": 3,
   "id": "81b99b1c-e0bd-46ad-b6bb-752fd8c580af",
   "metadata": {},
   "outputs": [],
   "source": [
    "import numpy\n",
    "import pandas as pd\n",
    "import warnings\n",
    "\n",
    "warnings.filterwarnings('ignore')"
   ]
  },
  {
   "cell_type": "code",
   "execution_count": 38,
   "id": "502e27ef-55fc-45d1-b43b-6d4cafd24762",
   "metadata": {},
   "outputs": [],
   "source": [
    "data = pd.read_csv(\"C:/Users/anaho/Downloads/data (1).csv\",delimiter = ',')\n",
    "#but we don't need all keys, let's keep only the following\n",
    "keys = [ 'Participant Public ID',\n",
    "         'Participant Status',\n",
    "         'Spreadsheet',\n",
    "         'Spreadsheet Row',\n",
    "         'Trial Number',\n",
    "         'Screen Number',\n",
    "         'Screen Name',\n",
    "         'Reaction Time',\n",
    "         'Response',\n",
    "         'Correct',\n",
    "         'Paraphrase',\n",
    "         'Phrase',\n",
    "         'Item',\n",
    "         'Structure',\n",
    "         'Plausibility',\n",
    "         'Photo'] #photo for the aps"
   ]
  },
  {
   "cell_type": "code",
   "execution_count": 45,
   "id": "dc33cbb8-5d31-4ffb-bc7e-a6eb7c3c773e",
   "metadata": {},
   "outputs": [],
   "source": [
    "data = pd.read_csv(\"C:/Users/anaho/Downloads/data (1).csv\",delimiter = ',')\n",
    "#but we don't need all keys, let's keep only the following\n",
    "keys = [ 'Participant Public ID',\n",
    "         'Participant Status',\n",
    "         'Spreadsheet',\n",
    "         'Spreadsheet Row',\n",
    "         'Trial Number',\n",
    "         'Screen Number',\n",
    "         'Screen Name',\n",
    "         'Reaction Time',\n",
    "         'Response',\n",
    "         'Correct',\n",
    "         'Paraphrase',\n",
    "         'Phrase',\n",
    "         'Item',\n",
    "         'Structure',\n",
    "         'Plausibility',\n",
    "         'Photo'] #photo for the aps\n",
    "\n",
    "#define columns\n",
    "#drop the columns that do not have data\n",
    "data = data[(data.Structure != '')]\n",
    "data = data[(data.Structure != 'filler')]\n",
    "\n",
    "#keep only needed keys\n",
    "data =data[keys]\n",
    "\n",
    "data = data[data['Screen Name'] == 'Screen : Phrase']"
   ]
  },
  {
   "cell_type": "code",
   "execution_count": null,
   "id": "50b149c1-f573-4d2c-b0fd-810526f722d8",
   "metadata": {},
   "outputs": [],
   "source": [
    "    "
   ]
  }
 ],
 "metadata": {
  "kernelspec": {
   "display_name": "Python 3 (ipykernel)",
   "language": "python",
   "name": "python3"
  },
  "language_info": {
   "codemirror_mode": {
    "name": "ipython",
    "version": 3
   },
   "file_extension": ".py",
   "mimetype": "text/x-python",
   "name": "python",
   "nbconvert_exporter": "python",
   "pygments_lexer": "ipython3",
   "version": "3.9.13"
  }
 },
 "nbformat": 4,
 "nbformat_minor": 5
}
