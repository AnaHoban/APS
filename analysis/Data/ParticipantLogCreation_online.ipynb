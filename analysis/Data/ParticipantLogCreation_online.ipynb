{
 "cells": [
  {
   "cell_type": "markdown",
   "id": "5fe20a17-ecb1-4865-8bac-8fc29f177472",
   "metadata": {},
   "source": [
    "# Participant exclusion and participant log creation\n",
    "\n",
    "In this file we construct the participant log for the online data while taking into account exclusion criteria such as mother tongues, deficits and the time it takes for the participant to finish the task\n",
    "\n",
    "Written by Ana Hoban, 08/2024"
   ]
  },
  {
   "cell_type": "code",
   "execution_count": 191,
   "id": "eaf81054-8f4e-4666-b923-9e410f982f46",
   "metadata": {},
   "outputs": [],
   "source": [
    "import numpy as np \n",
    "import pandas as pd\n",
    "import csv"
   ]
  },
  {
   "cell_type": "markdown",
   "id": "b02a2af1-15ba-4d81-980b-2d64879f314c",
   "metadata": {
    "tags": []
   },
   "source": [
    "# Importing the files containing the demographic information\n",
    "\n",
    "### Be careful to run only the cell that you need in this section\n"
   ]
  },
  {
   "cell_type": "markdown",
   "id": "e1aef422-b7f2-444e-b129-3d7d4bfa55cd",
   "metadata": {
    "jp-MarkdownHeadingCollapsed": true,
    "tags": []
   },
   "source": [
    "## Importing English APS "
   ]
  },
  {
   "cell_type": "code",
   "execution_count": 329,
   "id": "f72a2427-c77a-4ceb-a809-49f4e3c80b1f",
   "metadata": {},
   "outputs": [],
   "source": [
    "############### FOR APS ###################\n",
    "lang = 'eng'\n",
    "output = 'Logs/LOG_English_online_aps.csv'\n",
    "time_constraint = 120 #minutes\n",
    "\n",
    "#data\n",
    "raw_data = pd.read_csv(\"C:/Users/anaho/Desktop/Data_online_eng_aps/screener.csv\")\n",
    "df = raw_data.dropna(subset=['Participant Public ID'])\n",
    "\n",
    "#get the data to evaluate the accuracy over all trials\n",
    "file_all_data = 'C:/Users/anaho/Desktop/research/Language/APS/analysis/Data/Processed data/EnglishOnline/english_online_apsData_formatted.csv'\n",
    "for_accuracy = pd.read_csv(file_all_data)\n",
    "\n",
    "#get the attractiveness survey data to check the time it took to do the experiment\n",
    "final = pd.read_csv(\"C:/Users/anaho/Desktop/Data_online_eng_aps/attractiveness_data_raw.csv\")"
   ]
  },
  {
   "cell_type": "markdown",
   "id": "21f387e7-51e1-4c0b-be41-7f8802c36455",
   "metadata": {
    "jp-MarkdownHeadingCollapsed": true,
    "tags": []
   },
   "source": [
    "## Importing English Silent"
   ]
  },
  {
   "cell_type": "code",
   "execution_count": 332,
   "id": "23792fc3-537f-4b78-a7d6-94edf2d0797f",
   "metadata": {},
   "outputs": [],
   "source": [
    "############ FOR CONTROL ###############\n",
    "lang = 'eng'\n",
    "output = 'Logs/LOG_English_online_silent.csv'\n",
    "time_constraint = 60 #minutes\n",
    "\n",
    "#data\n",
    "raw_data = pd.read_csv(\"C:/Users/anaho/Desktop/silent online task data/screener.csv\")\n",
    "df = raw_data.dropna(subset=['Participant Public ID'])\n",
    "\n",
    "#get the data to evaluate the accuracy over all trials\n",
    "file_all_data = 'C:/Users/anaho/Desktop/research/Language/APS/analysis/Data/Processed data/EnglishOnline/english_online_silentData_formatted.csv'\n",
    "for_accuracy = pd.read_csv(file_all_data)\n",
    "\n",
    "#get the attractiveness survey data to check the time it took to do the experiment\n",
    "final = pd.read_csv(\"C:/Users/anaho/Desktop/silent online task data/questionnaire_final_message.csv\")"
   ]
  },
  {
   "cell_type": "markdown",
   "id": "30d1632a-6eea-4e03-bda0-8d74424e2e47",
   "metadata": {
    "tags": []
   },
   "source": [
    "## Importing French APS"
   ]
  },
  {
   "cell_type": "code",
   "execution_count": 370,
   "id": "39dad11c-7cbc-46b6-bff0-658718d1fbd5",
   "metadata": {
    "tags": []
   },
   "outputs": [],
   "source": [
    "############## FOR APS ##################\n",
    "lang = 'fr'\n",
    "output = 'Logs/LOG_French_online_aps.csv'\n",
    "time_constraint = 120 #minutes\n",
    "\n",
    "#data\n",
    "raw_data = pd.read_csv(\"C:/Users/anaho/Desktop/Data_Amandine_APS/Data_Amandine_APS/screener.csv\", encoding = 'latin1', delimiter = ',')\n",
    "df = raw_data.dropna(subset=['Participant Public ID'])\n",
    "\n",
    "#getting the time of the last answer\n",
    "all_data = []\n",
    "\n",
    "for i in range(1,9):    \n",
    "    data_file = open((\"C:/Users/anaho/Desktop/Data_Amandine_APS/Data_Amandine_APS/list{}.csv\".format(i)), \"r\",encoding = 'latin1')\n",
    "    data = list(csv.reader(data_file, delimiter=\",\")) #skipping header\n",
    "    data_file.close()\n",
    "    all_data += data\n",
    "\n",
    "all_keys = all_data[0] #read in column names \n",
    "\n",
    "final = pd.DataFrame(all_data, columns = all_keys)\n",
    "\n",
    "final = final.loc[final['Trial Number'] == 'END TASK',  ['Participant Public ID','UTC Timestamp']] #keep only end times\n",
    "\n",
    "#get the data to evaluate the accuracy over all trials\n",
    "file_all_data = 'C:/Users/anaho/Desktop/research/Language/APS/analysis/Data/Processed data/FrenchOnline/french_online_apsData_formatted.csv'\n",
    "for_accuracy = pd.read_csv(file_all_data)\n"
   ]
  },
  {
   "cell_type": "markdown",
   "id": "c17ae3e0-48f9-45ea-abc3-99440fd82015",
   "metadata": {
    "jp-MarkdownHeadingCollapsed": true,
    "tags": []
   },
   "source": [
    "## Importing French Silent"
   ]
  },
  {
   "cell_type": "code",
   "execution_count": 360,
   "id": "30657a55-4627-44d2-b377-9b7f0caf1b61",
   "metadata": {
    "tags": []
   },
   "outputs": [],
   "source": [
    "############ FOR CONTROL ###############\n",
    "lang = 'fr'\n",
    "output = 'Logs/LOG_French_online_silent.csv'\n",
    "time_constraint = 60 #minutes\n",
    "\n",
    "#data\n",
    "raw_data = pd.read_csv(\"C:/Users/anaho/Desktop/Amandine_silent_reading_csv/screener.csv\", encoding = 'latin1', delimiter = ';')\n",
    "df = raw_data.dropna(subset=['Participant Public ID'])\n",
    "\n",
    "#getting the time of the last answer\n",
    "all_data = []\n",
    "\n",
    "for i in range(1,5):    \n",
    "    \n",
    "    data_file = open((\"C:/Users/anaho/Desktop/Amandine_silent_reading_csv/list{}.csv\".format(i)), \"r\",encoding = 'latin1')\n",
    "    \n",
    "    data = list(csv.reader(data_file, delimiter=\";\")) #skipping header\n",
    "    data_file.close()\n",
    "    all_data += data\n",
    "\n",
    "all_keys = all_data[0] #read in column names \n",
    "\n",
    "raw_responses = pd.DataFrame(all_data, columns = all_keys)\n",
    "\n",
    "final = pd.DataFrame(all_data, columns = all_keys)\n",
    "\n",
    "final = final.loc[final['Trial Number'] == 'END TASK', ['Participant Public ID','UTC Timestamp']] #keep only end times\n",
    "\n",
    "#get the data to evaluate the accuracy over all trials\n",
    "file_all_data = 'C:/Users/anaho/Desktop/research/Language/APS/analysis/Data/Processed data/FrenchOnline/french_online_silentData_formatted.csv'\n",
    "for_accuracy = pd.read_csv(file_all_data)\n"
   ]
  },
  {
   "cell_type": "markdown",
   "id": "488a8771-1787-4458-b6fe-eac27a53b10e",
   "metadata": {
    "tags": []
   },
   "source": [
    "# Exclusion"
   ]
  },
  {
   "cell_type": "code",
   "execution_count": 371,
   "id": "9aae5ea2-aca9-4407-8a90-ad72420a7049",
   "metadata": {},
   "outputs": [],
   "source": [
    "#important question keys\n",
    "question_keys = ['id','gender','age_days','age_month','age_year','studyLevel','deficit','maternalEnglish','otherLanguages', 'group']"
   ]
  },
  {
   "cell_type": "code",
   "execution_count": 372,
   "id": "b53f5254-a751-4732-8c48-785fbcdd3615",
   "metadata": {},
   "outputs": [],
   "source": [
    "# for the french data, must translate the question keys \n",
    "transl = {'Genre-1': 'Gender-1',\n",
    "          'Genre-2': 'Gender-2',\n",
    "          \"Niveau d'Ã©tude\": 'Level of Study',\n",
    "          \"Niveau d'Ã©tude-quantised\": 'Level of Study-quantised',\n",
    "          \"Niveau d'Ã©tude-text\": 'Level of Study-text',\n",
    "          'DÃ©ficit-1' : 'Deficit-1',\n",
    "          'DÃ©ficit-text': 'Deficit-text', \n",
    "          'Langue maternelle-1': 'Maternal language-1' , \n",
    "          'Langue maternelle-text': 'Maternal language-text',\n",
    "          'Langue maternelle-other': 'Maternal language-other',\n",
    "          'langue parlÃ©e-1': 'Spoken language-1',\n",
    "          'langue parlÃ©e-other': 'Spoken Languages-other', \n",
    "          'langue parlÃ©e-text': 'Spoken Languages-text'}\n",
    "\n",
    "if lang == 'fr':          \n",
    "    df = df.replace({\"Question Key\": transl})"
   ]
  },
  {
   "cell_type": "code",
   "execution_count": 373,
   "id": "0ce4379f-6d9a-4684-8a28-f240a8817977",
   "metadata": {
    "tags": []
   },
   "outputs": [
    {
     "name": "stdout",
     "output_type": "stream",
     "text": [
      "sk111 took more than 120 minutes :  1618.07855\n",
      "smaya28 doesnt have only english as a mother tongue:\n",
      "318    L'allemand\n",
      "Name: Response, dtype: object\n",
      "------------\n",
      "smaya28 has a deficit: \n",
      "316    Myopie\n",
      "Name: Response, dtype: object\n",
      "------------\n",
      "smaya26 has a deficit: \n",
      "370    myope\n",
      "Name: Response, dtype: object\n",
      "------------\n",
      "sf306 took more than 120 minutes :  2612.773466666667\n",
      "sq217 has a deficit: \n",
      "839    Port de lunette\n",
      "Name: Response, dtype: object\n",
      "------------\n",
      "sg207 has a deficit: \n",
      "929    leger deficit auditif\n",
      "Name: Response, dtype: object\n",
      "------------\n",
      "sm113 took more than 120 minutes :  1738.0441\n"
     ]
    }
   ],
   "source": [
    "#remove some of the participants (i.e. if they have than one mother tongue or a deficit)\n",
    "to_exclude = []\n",
    "\n",
    "for i, ID in enumerate(df['Participant Public ID'].unique()):\n",
    "    \n",
    "    #checking if other mother tongue\n",
    "    if True not in list(df[df['Participant Public ID'] == ID]['Question Key'].str.contains('Maternal language-1')):\n",
    "        print(ID, 'doesnt have only english as a mother tongue:')\n",
    "        print(df.loc[(df['Participant Public ID'] == ID) & (df['Question Key'] == 'Maternal language-text'), 'Response'])\n",
    "        print('------------')\n",
    "        to_exclude.append(ID)\n",
    "     \n",
    "    #checking if deficit\n",
    "    if True not in list(df[df['Participant Public ID'] == ID]['Question Key'].str.contains('Deficit-1')):\n",
    "        print(ID, 'has a deficit: ')\n",
    "        print(df.loc[(df['Participant Public ID'] == ID) & (df['Question Key'] == 'Deficit-text'), 'Response'])\n",
    "        print('------------')\n",
    "        to_exclude.append(ID)\n",
    "            \n",
    " #slightly diff code to retrieve start and end times\n",
    "\n",
    "    if lang == 'eng':\n",
    "        \n",
    "        #check the time it took then to do the experiment\n",
    "        start_time = list(df[df['Participant Public ID'] == ID]['UTC Timestamp'])[0]\n",
    "        end_time = list(final[final['Participant Public ID'] == ID]['UTC Timestamp'])[0]\n",
    "        total_time = (end_time-start_time)/60/1000 #to compute the difference in MINUTES between two UTC timestamps we divide by 60 and 1000 since the times are in milliseconds\n",
    "    \n",
    "        if total_time > time_constraint: #if they took more than two hours for aps or 1 for control\n",
    "            print(ID, 'took more than {} minutes : '.format(time_constraint), total_time)\n",
    "            print('------------')\n",
    "            to_exclude.append(ID)\n",
    "            \n",
    "    if lang == 'fr':\n",
    "        #check the time it took then to do the experiment\n",
    "        start_time = list(df[df['Participant Public ID'] == ID]['UTC Timestamp'])[0]\n",
    "        end_time = int(list(final[final['Participant Public ID'] == ID]['UTC Timestamp'])[0])\n",
    "        total_time = (end_time-start_time)/60/1000 #to compute the difference in MINUTES between two UTC timestamps we divide by 60 and 1000 since the times are in milliseconds\n",
    "    \n",
    "        if total_time > time_constraint: #if they took more than two hours for aps or 1 for control\n",
    "            print(ID, 'took more than {} minutes : '.format(time_constraint), total_time)\n",
    "            to_exclude.append(ID)\n",
    "            \n",
    "to_exclude  = list(set(to_exclude)) #in case a participant is excluded for two reasons, just need to be on the list once"
   ]
  },
  {
   "cell_type": "code",
   "execution_count": 374,
   "id": "5f9f188d-8981-42fa-8360-18cb1debbc9f",
   "metadata": {
    "tags": []
   },
   "outputs": [],
   "source": [
    "# we must exclude the participants who have not been on task\n",
    "#to do this, we run this code one time to get the log, create tne dataset, then we can use the raw dataset to test for this condition, \n",
    "# exclude more participants if needed\n",
    "#keep only participants that have had more than 0.55 accuracy on ALL TRIALS\n",
    "\n",
    "for i, ID in enumerate(for_accuracy['Session_Name_'].unique()):    \n",
    "    acc_tot = len(for_accuracy.loc[(for_accuracy['Session_Name_'] == ID) & (for_accuracy['PARAPHRASE_ACCURACY'] == 1)])/144\n",
    "    \n",
    "    if acc_tot < 0.55:\n",
    "        print(ID, acc_tot) \n",
    "        to_exclude.append(ID)    "
   ]
  },
  {
   "cell_type": "markdown",
   "id": "22734a51-6c4f-4d05-97ea-6bb38f2e00bc",
   "metadata": {},
   "source": [
    "## The following cell must be run only to manually adjust the list of participants to exclude"
   ]
  },
  {
   "cell_type": "code",
   "execution_count": 375,
   "id": "9f98a9a5-b17b-4317-a9b3-cacb606de152",
   "metadata": {},
   "outputs": [
    {
     "name": "stdout",
     "output_type": "stream",
     "text": [
      "suggested exclusion ['sm113', 'sq217', 'smaya28', 'sf306', 'sg207', 'sk111', 'smaya26']\n",
      "final exclusion list ['sm113', 'sf306', 'sk111']\n",
      "that is 3 participants\n"
     ]
    }
   ],
   "source": [
    "#to adjust the excluded participants:\n",
    "print('suggested exclusion', to_exclude)\n",
    "\n",
    "#put here the participants you want to keep\n",
    "to_keep = ['sq217', 'smaya26', 'smaya28', 'sg207','sxp124', 'sg207','sxp124'\n",
    "           '66c4460e502819ffa17ebe23','66a74d3256a08f1e9a52aeb5','668b9ef3f88084c4945bc24d',\n",
    "           '6650a9ed115b3903e40e8943','66709a4a49e9bb2c80c53c27','6475e3b08c14ba10d9e6f70f'] #you can modify this\n",
    "to_exclude =  [i for i in to_exclude if i not in to_keep]\n",
    "\n",
    "print('final exclusion list', to_exclude)\n",
    "print('that is {} participants'.format(len(to_exclude)))"
   ]
  },
  {
   "cell_type": "code",
   "execution_count": 376,
   "id": "6ce2ab58-6435-461f-9ffd-c2fc176a8163",
   "metadata": {},
   "outputs": [
    {
     "name": "stdout",
     "output_type": "stream",
     "text": [
      "must exclude: 3 participant(s)\n",
      "In total, we have 77 participants\n"
     ]
    }
   ],
   "source": [
    "#remove the lines of this participant\n",
    "print('must exclude:', len(to_exclude), 'participant(s)')\n",
    "\n",
    "#exclude them\n",
    "for i in to_exclude:\n",
    "    df = df.drop(df[df['Participant Public ID'] == i].index)\n",
    "    \n",
    "print('In total, we have {} participants'.format(len(df['Participant Public ID'].unique())))"
   ]
  },
  {
   "cell_type": "markdown",
   "id": "b4841820-f6be-4725-a702-c9c23205dcc2",
   "metadata": {
    "tags": []
   },
   "source": [
    "# Building the demographics .csv file"
   ]
  },
  {
   "cell_type": "code",
   "execution_count": 367,
   "id": "344eee66-8cb5-4dcd-a64e-7f03b2469fbb",
   "metadata": {},
   "outputs": [],
   "source": [
    "#rename a few elements\n",
    "df.loc[df['Question Key'] == \"Gender-1\", 'Question Key'] = 'Gender'\n",
    "df.loc[df['Question Key'] == \"Gender-2\", 'Question Key'] = 'Gender'\n",
    "df.loc[df['Question Key'] == \"Gender-other\", 'Question Key'] = 'Gender'\n",
    "df.loc[df['Question Key'] == \"Level of Study-quantised\", 'Question Key'] = 'Study'\n",
    "df.loc[df['Question Key'] == \"Level of Study-text\", 'Question Key'] = 'Study'"
   ]
  },
  {
   "cell_type": "code",
   "execution_count": 368,
   "id": "54fb4f2d-46f4-4f9f-a317-98fc7153b9d2",
   "metadata": {
    "tags": []
   },
   "outputs": [],
   "source": [
    "#initialize demographics df\n",
    "demographics = pd.DataFrame(columns  = question_keys, index = np.arange(len(df['Participant Public ID'].unique())))\n",
    "\n",
    "for i, ID in enumerate(df['Participant Public ID'].unique()):\n",
    "\n",
    "    gender   = df.loc[ (df['Participant Public ID'] == ID) & (df['Question Key'] == 'Gender'), 'Response'].values[0]\n",
    "    day      = df.loc[ (df['Participant Public ID'] == ID) & (df['Question Key'] == 'Age-day'), 'Response'].values[0]\n",
    "    month    = df.loc[ (df['Participant Public ID'] == ID) & (df['Question Key'] == 'Age-month'), 'Response'].values[0]\n",
    "    year     = df.loc[ (df['Participant Public ID'] == ID) & (df['Question Key'] == 'Age-year'), 'Response'].values[0]\n",
    "    study    = df.loc[ (df['Participant Public ID'] == ID) & (df['Question Key'] == 'Study'), 'Response'].values[0]\n",
    "    \n",
    "    if df.loc[ (df['Participant Public ID'] == ID) & (df['Question Key'] == 'Spoken Languages-text')] is not np.nan:\n",
    "        spoken   = df.loc[ (df['Participant Public ID'] == ID) & (df['Question Key'] == 'Spoken Languages-text'), 'Response'].values[0]\n",
    "    \n",
    "\n",
    "    demographics.loc[i] = pd.Series({'id': ID, 'gender': gender , 'age_days': day, 'age_month' : month, 'age_year': year, 'studyLevel': study, 'otherLanguages': spoken})\n",
    "    \n",
    "demographics['group'] = 'aps'"
   ]
  },
  {
   "cell_type": "code",
   "execution_count": 369,
   "id": "8202477e-8ef7-4439-b62b-72b6a3dc4c97",
   "metadata": {},
   "outputs": [],
   "source": [
    "#save the file\n",
    "demographics.to_csv(output, index = False)"
   ]
  },
  {
   "cell_type": "code",
   "execution_count": null,
   "id": "1a24dfff-0c69-41ea-aeec-00b483e869c4",
   "metadata": {},
   "outputs": [],
   "source": []
  }
 ],
 "metadata": {
  "kernelspec": {
   "display_name": "Python 3 (ipykernel)",
   "language": "python",
   "name": "python3"
  },
  "language_info": {
   "codemirror_mode": {
    "name": "ipython",
    "version": 3
   },
   "file_extension": ".py",
   "mimetype": "text/x-python",
   "name": "python",
   "nbconvert_exporter": "python",
   "pygments_lexer": "ipython3",
   "version": "3.9.13"
  }
 },
 "nbformat": 4,
 "nbformat_minor": 5
}
